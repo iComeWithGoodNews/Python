{
 "cells": [
  {
   "cell_type": "markdown",
   "id": "8276a8ed-4859-473f-bbbe-fa44f80a588f",
   "metadata": {},
   "source": [
    "# Automated Crypto Web Scraper Project"
   ]
  },
  {
   "cell_type": "code",
   "execution_count": 2,
   "id": "e0766320-ac20-4fa1-b1c6-528845605b63",
   "metadata": {},
   "outputs": [],
   "source": [
    "from bs4 import BeautifulSoup\n",
    "import requests\n",
    "import pandas as pd\n",
    "from datetime import datetime \n",
    "import os\n",
    "import time"
   ]
  },
  {
   "cell_type": "code",
   "execution_count": 3,
   "id": "6cabdfc8-7d62-4555-b3ad-31c706ea085f",
   "metadata": {},
   "outputs": [],
   "source": [
    "def automated_crypto_pull():\n",
    "    url = 'https://coinmarketcap.com/currencies/bitcoin/'\n",
    "    \n",
    "    page = requests.get(url)\n",
    "    \n",
    "    soup = BeautifulSoup(page.text, 'html')\n",
    "    \n",
    "    \n",
    "    \n",
    "    crypto_name = soup.find('span', class_ = 'sc-65e7f566-0 lsTl').text\n",
    "    # <span data-role=\"coin-name\" title=\"Bitcoin\" class=\"sc-65e7f566-0 lsTl\">Bitcoin<span class=\"sc-65e7f566-0 eQBACe coin-name-mobile\"> price</span></span>\n",
    "    \n",
    "    crypto_name = crypto_name.replace(' price', '')\n",
    "    \n",
    "    crypto_price = soup.find('span', class_ = 'sc-65e7f566-0 esyGGG base-text').text\n",
    "    #<span class=\"sc-65e7f566-0 esyGGG base-text\" data-test=\"text-cdp-price-display\">$107,420.84</span>\n",
    "    \n",
    "    crypto_price = crypto_price.replace('$', '')\n",
    "    \n",
    "    \n",
    "    \n",
    "    time_stamp = datetime.now()\n",
    "    \n",
    "    dict = {'Crypto Name': crypto_name,'Crypto Price': crypto_price,'Time Stamp': time_stamp}\n",
    "    \n",
    "    df = pd.DataFrame([dict])\n",
    "    \n",
    "    \n",
    "    \n",
    "    if os.path.exists(r'C:\\Users\\Lee\\Documents\\Python\\Crypto_automated_pull.csv'):\n",
    "        df.to_csv(r'C:\\Users\\Lee\\Documents\\Python\\Crypto_automated_pull.csv', mode = 'a', header = False)\n",
    "    else:\n",
    "        df.to_csv(r'C:\\Users\\Lee\\Documents\\Python\\Crypto_automated_pull.csv')\n",
    "    print(df)\n",
    "\n"
   ]
  },
  {
   "cell_type": "code",
   "execution_count": null,
   "id": "459bb0c4-471d-4667-b7b4-3f19f633e365",
   "metadata": {},
   "outputs": [
    {
     "name": "stdout",
     "output_type": "stream",
     "text": [
      "  Crypto Name Crypto Price                 Time Stamp\n",
      "0     Bitcoin   118,184.32 2025-07-29 16:15:45.171820\n"
     ]
    }
   ],
   "source": [
    "while True:\n",
    "    automated_crypto_pull()\n",
    "    time.sleep(60) # that number is seconds"
   ]
  }
 ],
 "metadata": {
  "kernelspec": {
   "display_name": "Python [conda env:base] *",
   "language": "python",
   "name": "conda-base-py"
  },
  "language_info": {
   "codemirror_mode": {
    "name": "ipython",
    "version": 3
   },
   "file_extension": ".py",
   "mimetype": "text/x-python",
   "name": "python",
   "nbconvert_exporter": "python",
   "pygments_lexer": "ipython3",
   "version": "3.12.7"
  }
 },
 "nbformat": 4,
 "nbformat_minor": 5
}
